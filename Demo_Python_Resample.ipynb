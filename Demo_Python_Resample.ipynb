{
 "cells": [
  {
   "cell_type": "code",
   "execution_count": 25,
   "metadata": {
    "collapsed": true
   },
   "outputs": [],
   "source": [
    "import pandas as pd\n",
    "import numpy as np"
   ]
  },
  {
   "cell_type": "markdown",
   "metadata": {},
   "source": [
    "Frequency information is stored in the collection of __DatetimeIndex__ object."
   ]
  },
  {
   "cell_type": "code",
   "execution_count": 26,
   "metadata": {
    "collapsed": false
   },
   "outputs": [
    {
     "data": {
      "text/plain": [
       "DatetimeIndex(['2017-01-01', '2017-01-02', '2017-01-03', '2017-01-04',\n",
       "               '2017-01-05', '2017-01-06', '2017-01-07', '2017-01-08',\n",
       "               '2017-01-09', '2017-01-10',\n",
       "               ...\n",
       "               '2018-05-06', '2018-05-07', '2018-05-08', '2018-05-09',\n",
       "               '2018-05-10', '2018-05-11', '2018-05-12', '2018-05-13',\n",
       "               '2018-05-14', '2018-05-15'],\n",
       "              dtype='datetime64[ns]', length=500, freq='D')"
      ]
     },
     "execution_count": 26,
     "metadata": {},
     "output_type": "execute_result"
    }
   ],
   "source": [
    "dates = pd.date_range(start = '01-01-2017', periods = 500)\n",
    "dates"
   ]
  },
  {
   "cell_type": "code",
   "execution_count": 27,
   "metadata": {
    "collapsed": false
   },
   "outputs": [
    {
     "data": {
      "text/plain": [
       "2018-05-11    496\n",
       "2018-05-12    497\n",
       "2018-05-13    498\n",
       "2018-05-14    499\n",
       "2018-05-15    500\n",
       "Freq: D, dtype: int32"
      ]
     },
     "execution_count": 27,
     "metadata": {},
     "output_type": "execute_result"
    }
   ],
   "source": [
    "TT = pd.Series(range(1,501,1), index = dates)\n",
    "TT.tail()"
   ]
  },
  {
   "cell_type": "markdown",
   "metadata": {},
   "source": [
    "# Frequency Indicator"
   ]
  },
  {
   "cell_type": "markdown",
   "metadata": {},
   "source": [
    "__Freq indicator__ disappeared after modification\n"
   ]
  },
  {
   "cell_type": "code",
   "execution_count": 28,
   "metadata": {
    "collapsed": false
   },
   "outputs": [
    {
     "data": {
      "text/plain": [
       "2018-05-12    497\n",
       "2018-05-13    498\n",
       "2018-05-14    499\n",
       "2018-05-15    500\n",
       "2019-05-16     21\n",
       "dtype: int64"
      ]
     },
     "execution_count": 28,
     "metadata": {},
     "output_type": "execute_result"
    }
   ],
   "source": [
    "TT_temp = TT.copy(deep = True)\n",
    "TT_temp[pd.to_datetime('05-16-2019')] = 21\n",
    "TT_temp.tail()"
   ]
  },
  {
   "cell_type": "markdown",
   "metadata": {},
   "source": [
    "# Business Calendar"
   ]
  },
  {
   "cell_type": "markdown",
   "metadata": {},
   "source": [
    "## Grouping Mechanism\n",
    "\n",
    "_Same as retime/synchronize grouping_ "
   ]
  },
  {
   "cell_type": "code",
   "execution_count": 29,
   "metadata": {
    "collapsed": false
   },
   "outputs": [
    {
     "data": {
      "text/plain": [
       "2017-12-29    182\n",
       "2018-12-31    432\n",
       "Freq: BA-DEC, dtype: int32"
      ]
     },
     "execution_count": 29,
     "metadata": {},
     "output_type": "execute_result"
    }
   ],
   "source": [
    "TT_Business = TT.resample('BA-DEC').mean()\n",
    "TT_Business"
   ]
  },
  {
   "cell_type": "code",
   "execution_count": 30,
   "metadata": {
    "collapsed": false
   },
   "outputs": [
    {
     "data": {
      "text/plain": [
       "2017-12-31    183\n",
       "2018-12-31    433\n",
       "Freq: A-DEC, dtype: int32"
      ]
     },
     "execution_count": 30,
     "metadata": {},
     "output_type": "execute_result"
    }
   ],
   "source": [
    "TT_Business = TT.resample('A-DEC').mean()  # Only weekends are ignored as non-business dates.\n",
    "TT_Business"
   ]
  },
  {
   "cell_type": "markdown",
   "metadata": {},
   "source": [
    "__Observation__:\n",
    "- Weekends data are not _ignored/removed_, instead, they are grouped in each bin.\n",
    "- Non-business dates are grouped into last valid business date.\n",
    "    - Example: 01-01-2017 is Sunday, so 01-01-2017 and 12-30-2017 are actually grouped into the group 12-29-2017 (Friday)\n",
    "- 2017-12-30, 2017-12-31 data are actually grouped into 2018 group. \n",
    "    - Test: $(364 + 500) / 2= 432$, which is same as the BA frequency resample result.\n",
    "    - In this case, 364 is the data on 12-30-2017"
   ]
  },
  {
   "cell_type": "code",
   "execution_count": 31,
   "metadata": {
    "collapsed": false
   },
   "outputs": [
    {
     "data": {
      "text/plain": [
       "2016-12-30    1\n",
       "2016-12-31    2\n",
       "2017-01-01    3\n",
       "Freq: D, dtype: int32"
      ]
     },
     "execution_count": 31,
     "metadata": {},
     "output_type": "execute_result"
    }
   ],
   "source": [
    "TT_daily = pd.Series(range(1,4,1), index = pd.date_range(start = '12-30-2016', periods = 3))\n",
    "TT_daily"
   ]
  },
  {
   "cell_type": "code",
   "execution_count": 32,
   "metadata": {
    "collapsed": false
   },
   "outputs": [
    {
     "data": {
      "text/plain": [
       "2016-12-30    2\n",
       "Freq: B, dtype: int32"
      ]
     },
     "execution_count": 32,
     "metadata": {},
     "output_type": "execute_result"
    }
   ],
   "source": [
    "# Grouped into one bin\n",
    "TT_daily.resample('B').mean()"
   ]
  },
  {
   "cell_type": "markdown",
   "metadata": {},
   "source": [
    "# Label Display"
   ]
  },
  {
   "cell_type": "code",
   "execution_count": 33,
   "metadata": {
    "collapsed": false
   },
   "outputs": [
    {
     "data": {
      "text/plain": [
       "2017-01-01    1\n",
       "2017-01-02    2\n",
       "2017-01-03    3\n",
       "2017-01-04    4\n",
       "2017-01-05    5\n",
       "Freq: D, dtype: int32"
      ]
     },
     "execution_count": 33,
     "metadata": {},
     "output_type": "execute_result"
    }
   ],
   "source": [
    "TT.head()"
   ]
  },
  {
   "cell_type": "code",
   "execution_count": 34,
   "metadata": {
    "collapsed": false
   },
   "outputs": [
    {
     "data": {
      "text/plain": [
       "2018-05-11    496\n",
       "2018-05-12    497\n",
       "2018-05-13    498\n",
       "2018-05-14    499\n",
       "2018-05-15    500\n",
       "Freq: D, dtype: int32"
      ]
     },
     "execution_count": 34,
     "metadata": {},
     "output_type": "execute_result"
    }
   ],
   "source": [
    "TT.tail()"
   ]
  },
  {
   "cell_type": "code",
   "execution_count": 35,
   "metadata": {
    "collapsed": false
   },
   "outputs": [
    {
     "data": {
      "text/plain": [
       "2017-01-31     16.0\n",
       "2017-02-28     45.5\n",
       "2017-03-31     75.0\n",
       "2017-04-30    105.5\n",
       "2017-05-31    136.0\n",
       "2017-06-30    166.5\n",
       "2017-07-31    197.0\n",
       "2017-08-31    228.0\n",
       "2017-09-30    258.5\n",
       "2017-10-31    289.0\n",
       "2017-11-30    319.5\n",
       "2017-12-31    350.0\n",
       "2018-01-31    381.0\n",
       "2018-02-28    410.5\n",
       "2018-03-31    440.0\n",
       "2018-04-30    470.5\n",
       "2018-05-31    493.0\n",
       "Freq: M, dtype: float64"
      ]
     },
     "execution_count": 35,
     "metadata": {},
     "output_type": "execute_result"
    }
   ],
   "source": [
    "TT.resample('M').mean()"
   ]
  },
  {
   "cell_type": "markdown",
   "metadata": {},
   "source": [
    "## Display Left Edge Dates as Labels"
   ]
  },
  {
   "cell_type": "code",
   "execution_count": 36,
   "metadata": {
    "collapsed": false
   },
   "outputs": [
    {
     "data": {
      "text/plain": [
       "2016-12-31     16.0\n",
       "2017-01-31     45.5\n",
       "2017-02-28     75.0\n",
       "2017-03-31    105.5\n",
       "2017-04-30    136.0\n",
       "2017-05-31    166.5\n",
       "2017-06-30    197.0\n",
       "2017-07-31    228.0\n",
       "2017-08-31    258.5\n",
       "2017-09-30    289.0\n",
       "2017-10-31    319.5\n",
       "2017-11-30    350.0\n",
       "2017-12-31    381.0\n",
       "2018-01-31    410.5\n",
       "2018-02-28    440.0\n",
       "2018-03-31    470.5\n",
       "2018-04-30    493.0\n",
       "Freq: M, dtype: float64"
      ]
     },
     "execution_count": 36,
     "metadata": {},
     "output_type": "execute_result"
    }
   ],
   "source": [
    "TT.resample('M', label = 'left').mean() # Left edge data is not included for calculation by default"
   ]
  },
  {
   "cell_type": "markdown",
   "metadata": {},
   "source": [
    "## Adjust the Resampled Time Labels"
   ]
  },
  {
   "cell_type": "code",
   "execution_count": 37,
   "metadata": {
    "collapsed": false
   },
   "outputs": [
    {
     "data": {
      "text/plain": [
       "2017-02-01     16.0\n",
       "2017-03-01     45.5\n",
       "2017-04-01     75.0\n",
       "2017-05-01    105.5\n",
       "2017-06-01    136.0\n",
       "2017-07-01    166.5\n",
       "2017-08-01    197.0\n",
       "2017-09-01    228.0\n",
       "2017-10-01    258.5\n",
       "2017-11-01    289.0\n",
       "2017-12-01    319.5\n",
       "2018-01-01    350.0\n",
       "2018-02-01    381.0\n",
       "2018-03-01    410.5\n",
       "2018-04-01    440.0\n",
       "2018-05-01    470.5\n",
       "2018-06-01    493.0\n",
       "Freq: MS, dtype: float64"
      ]
     },
     "execution_count": 37,
     "metadata": {},
     "output_type": "execute_result"
    }
   ],
   "source": [
    "TT.resample('M', loffset = '1d').mean()"
   ]
  },
  {
   "cell_type": "code",
   "execution_count": 38,
   "metadata": {
    "collapsed": false
   },
   "outputs": [
    {
     "data": {
      "text/plain": [
       "2017-01-31 00:00:01     16.0\n",
       "2017-02-28 00:00:01     45.5\n",
       "2017-03-31 00:00:01     75.0\n",
       "2017-04-30 00:00:01    105.5\n",
       "2017-05-31 00:00:01    136.0\n",
       "2017-06-30 00:00:01    166.5\n",
       "2017-07-31 00:00:01    197.0\n",
       "2017-08-31 00:00:01    228.0\n",
       "2017-09-30 00:00:01    258.5\n",
       "2017-10-31 00:00:01    289.0\n",
       "2017-11-30 00:00:01    319.5\n",
       "2017-12-31 00:00:01    350.0\n",
       "2018-01-31 00:00:01    381.0\n",
       "2018-02-28 00:00:01    410.5\n",
       "2018-03-31 00:00:01    440.0\n",
       "2018-04-30 00:00:01    470.5\n",
       "2018-05-31 00:00:01    493.0\n",
       "Freq: M, dtype: float64"
      ]
     },
     "execution_count": 38,
     "metadata": {},
     "output_type": "execute_result"
    }
   ],
   "source": [
    "TT.resample('M', loffset = '1s').mean()"
   ]
  },
  {
   "cell_type": "markdown",
   "metadata": {},
   "source": [
    "# Other Useful Features"
   ]
  },
  {
   "cell_type": "markdown",
   "metadata": {},
   "source": [
    "## Choose Closed Side of Bin Interval"
   ]
  },
  {
   "cell_type": "code",
   "execution_count": 39,
   "metadata": {
    "collapsed": false
   },
   "outputs": [
    {
     "data": {
      "text/plain": [
       "2017-01-31     15.5\n",
       "2017-02-28     44.5\n",
       "2017-03-31     74.0\n",
       "2017-04-30    104.5\n",
       "2017-05-31    135.0\n",
       "2017-06-30    165.5\n",
       "2017-07-31    196.0\n",
       "2017-08-31    227.0\n",
       "2017-09-30    257.5\n",
       "2017-10-31    288.0\n",
       "2017-11-30    318.5\n",
       "2017-12-31    349.0\n",
       "2018-01-31    380.0\n",
       "2018-02-28    409.5\n",
       "2018-03-31    439.0\n",
       "2018-04-30    469.5\n",
       "2018-05-31    492.5\n",
       "Freq: M, dtype: float64"
      ]
     },
     "execution_count": 39,
     "metadata": {},
     "output_type": "execute_result"
    }
   ],
   "source": [
    "TT.resample('M', closed = 'left').mean() # [a,b)"
   ]
  },
  {
   "cell_type": "code",
   "execution_count": 40,
   "metadata": {
    "collapsed": false
   },
   "outputs": [
    {
     "data": {
      "text/plain": [
       "2017-01-31     16.0\n",
       "2017-02-28     45.5\n",
       "2017-03-31     75.0\n",
       "2017-04-30    105.5\n",
       "2017-05-31    136.0\n",
       "2017-06-30    166.5\n",
       "2017-07-31    197.0\n",
       "2017-08-31    228.0\n",
       "2017-09-30    258.5\n",
       "2017-10-31    289.0\n",
       "2017-11-30    319.5\n",
       "2017-12-31    350.0\n",
       "2018-01-31    381.0\n",
       "2018-02-28    410.5\n",
       "2018-03-31    440.0\n",
       "2018-04-30    470.5\n",
       "2018-05-31    493.0\n",
       "Freq: M, dtype: float64"
      ]
     },
     "execution_count": 40,
     "metadata": {},
     "output_type": "execute_result"
    }
   ],
   "source": [
    "TT.resample('M').mean() # (a,b]"
   ]
  },
  {
   "cell_type": "markdown",
   "metadata": {},
   "source": [
    "## Set the Origin of the Aggregated Intervals (Intraday)"
   ]
  },
  {
   "cell_type": "code",
   "execution_count": 41,
   "metadata": {
    "collapsed": false
   },
   "outputs": [
    {
     "data": {
      "text/plain": [
       "2017-01-02 00:00:00    0\n",
       "2017-01-02 00:01:00    1\n",
       "2017-01-02 00:02:00    2\n",
       "2017-01-02 00:03:00    3\n",
       "2017-01-02 00:04:00    4\n",
       "2017-01-02 00:05:00    5\n",
       "2017-01-02 00:06:00    6\n",
       "2017-01-02 00:07:00    7\n",
       "2017-01-02 00:08:00    8\n",
       "2017-01-02 00:09:00    9\n",
       "Freq: T, dtype: int32"
      ]
     },
     "execution_count": 41,
     "metadata": {},
     "output_type": "execute_result"
    }
   ],
   "source": [
    "series = pd.Series(range(10), index=pd.date_range('1/2/2017', periods=10, freq='T'))\n",
    "series"
   ]
  },
  {
   "cell_type": "code",
   "execution_count": 42,
   "metadata": {
    "collapsed": false
   },
   "outputs": [
    {
     "data": {
      "text/plain": [
       "2017-01-02 00:00:00     3\n",
       "2017-01-02 00:03:00    12\n",
       "2017-01-02 00:06:00    21\n",
       "2017-01-02 00:09:00     9\n",
       "Freq: 3T, dtype: int32"
      ]
     },
     "execution_count": 42,
     "metadata": {},
     "output_type": "execute_result"
    }
   ],
   "source": [
    "series.resample('3T').sum()"
   ]
  },
  {
   "cell_type": "code",
   "execution_count": 43,
   "metadata": {
    "collapsed": false
   },
   "outputs": [
    {
     "data": {
      "text/plain": [
       "2017-01-01 23:58:00     0\n",
       "2017-01-02 00:01:00     6\n",
       "2017-01-02 00:04:00    15\n",
       "2017-01-02 00:07:00    24\n",
       "Freq: 3T, dtype: int32"
      ]
     },
     "execution_count": 43,
     "metadata": {},
     "output_type": "execute_result"
    }
   ],
   "source": [
    "# Origin: 2017-01-02 00:00:00 -> 2017-01-02 00:01:00\n",
    "# 2017-01-02 00:00:00 currently lies in [2017-01-01 23:58:00, 2017-01-01 00:01:00) Interval\n",
    "series.resample('3T', base = 1).sum()"
   ]
  },
  {
   "cell_type": "markdown",
   "metadata": {},
   "source": [
    "## Apply Different Aggregation Function on Different Columns"
   ]
  },
  {
   "cell_type": "code",
   "execution_count": 44,
   "metadata": {
    "collapsed": false
   },
   "outputs": [
    {
     "data": {
      "text/html": [
       "<div>\n",
       "<table border=\"1\" class=\"dataframe\">\n",
       "  <thead>\n",
       "    <tr style=\"text-align: right;\">\n",
       "      <th></th>\n",
       "      <th>Open</th>\n",
       "      <th>Volume</th>\n",
       "    </tr>\n",
       "  </thead>\n",
       "  <tbody>\n",
       "    <tr>\n",
       "      <th>2017-01-01</th>\n",
       "      <td>0.111683</td>\n",
       "      <td>2.180332</td>\n",
       "    </tr>\n",
       "    <tr>\n",
       "      <th>2017-01-02</th>\n",
       "      <td>0.390366</td>\n",
       "      <td>-0.625840</td>\n",
       "    </tr>\n",
       "    <tr>\n",
       "      <th>2017-01-03</th>\n",
       "      <td>0.016039</td>\n",
       "      <td>1.319917</td>\n",
       "    </tr>\n",
       "    <tr>\n",
       "      <th>2017-01-04</th>\n",
       "      <td>-0.563922</td>\n",
       "      <td>0.037491</td>\n",
       "    </tr>\n",
       "    <tr>\n",
       "      <th>2017-01-05</th>\n",
       "      <td>-0.995663</td>\n",
       "      <td>0.925376</td>\n",
       "    </tr>\n",
       "  </tbody>\n",
       "</table>\n",
       "</div>"
      ],
      "text/plain": [
       "                Open    Volume\n",
       "2017-01-01  0.111683  2.180332\n",
       "2017-01-02  0.390366 -0.625840\n",
       "2017-01-03  0.016039  1.319917\n",
       "2017-01-04 -0.563922  0.037491\n",
       "2017-01-05 -0.995663  0.925376"
      ]
     },
     "execution_count": 44,
     "metadata": {},
     "output_type": "execute_result"
    }
   ],
   "source": [
    "TT = pd.DataFrame(data = np.random.randn(500,2), columns=['Open', 'Volume'],index = dates)\n",
    "TT.head()"
   ]
  },
  {
   "cell_type": "code",
   "execution_count": 45,
   "metadata": {
    "collapsed": false
   },
   "outputs": [
    {
     "data": {
      "text/html": [
       "<div>\n",
       "<table border=\"1\" class=\"dataframe\">\n",
       "  <thead>\n",
       "    <tr style=\"text-align: right;\">\n",
       "      <th></th>\n",
       "      <th>Open</th>\n",
       "      <th>Volume</th>\n",
       "    </tr>\n",
       "  </thead>\n",
       "  <tbody>\n",
       "    <tr>\n",
       "      <th>2017-01-31</th>\n",
       "      <td>-0.439086</td>\n",
       "      <td>4.246242</td>\n",
       "    </tr>\n",
       "    <tr>\n",
       "      <th>2017-02-28</th>\n",
       "      <td>-0.029773</td>\n",
       "      <td>7.056137</td>\n",
       "    </tr>\n",
       "    <tr>\n",
       "      <th>2017-03-31</th>\n",
       "      <td>0.018178</td>\n",
       "      <td>-13.912609</td>\n",
       "    </tr>\n",
       "    <tr>\n",
       "      <th>2017-04-30</th>\n",
       "      <td>-0.206306</td>\n",
       "      <td>-2.394397</td>\n",
       "    </tr>\n",
       "    <tr>\n",
       "      <th>2017-05-31</th>\n",
       "      <td>0.291801</td>\n",
       "      <td>1.130518</td>\n",
       "    </tr>\n",
       "    <tr>\n",
       "      <th>2017-06-30</th>\n",
       "      <td>0.208987</td>\n",
       "      <td>1.036354</td>\n",
       "    </tr>\n",
       "    <tr>\n",
       "      <th>2017-07-31</th>\n",
       "      <td>0.043218</td>\n",
       "      <td>1.129415</td>\n",
       "    </tr>\n",
       "    <tr>\n",
       "      <th>2017-08-31</th>\n",
       "      <td>-0.141247</td>\n",
       "      <td>-11.020090</td>\n",
       "    </tr>\n",
       "    <tr>\n",
       "      <th>2017-09-30</th>\n",
       "      <td>-0.038370</td>\n",
       "      <td>-0.334242</td>\n",
       "    </tr>\n",
       "    <tr>\n",
       "      <th>2017-10-31</th>\n",
       "      <td>-0.239651</td>\n",
       "      <td>-1.655444</td>\n",
       "    </tr>\n",
       "    <tr>\n",
       "      <th>2017-11-30</th>\n",
       "      <td>-0.366803</td>\n",
       "      <td>-2.029371</td>\n",
       "    </tr>\n",
       "    <tr>\n",
       "      <th>2017-12-31</th>\n",
       "      <td>-0.082272</td>\n",
       "      <td>-1.310312</td>\n",
       "    </tr>\n",
       "    <tr>\n",
       "      <th>2018-01-31</th>\n",
       "      <td>0.240555</td>\n",
       "      <td>-7.560289</td>\n",
       "    </tr>\n",
       "    <tr>\n",
       "      <th>2018-02-28</th>\n",
       "      <td>0.128050</td>\n",
       "      <td>3.934745</td>\n",
       "    </tr>\n",
       "    <tr>\n",
       "      <th>2018-03-31</th>\n",
       "      <td>-0.024181</td>\n",
       "      <td>6.282551</td>\n",
       "    </tr>\n",
       "    <tr>\n",
       "      <th>2018-04-30</th>\n",
       "      <td>-0.160580</td>\n",
       "      <td>-6.709460</td>\n",
       "    </tr>\n",
       "    <tr>\n",
       "      <th>2018-05-31</th>\n",
       "      <td>0.195017</td>\n",
       "      <td>-1.308281</td>\n",
       "    </tr>\n",
       "  </tbody>\n",
       "</table>\n",
       "</div>"
      ],
      "text/plain": [
       "                Open     Volume\n",
       "2017-01-31 -0.439086   4.246242\n",
       "2017-02-28 -0.029773   7.056137\n",
       "2017-03-31  0.018178 -13.912609\n",
       "2017-04-30 -0.206306  -2.394397\n",
       "2017-05-31  0.291801   1.130518\n",
       "2017-06-30  0.208987   1.036354\n",
       "2017-07-31  0.043218   1.129415\n",
       "2017-08-31 -0.141247 -11.020090\n",
       "2017-09-30 -0.038370  -0.334242\n",
       "2017-10-31 -0.239651  -1.655444\n",
       "2017-11-30 -0.366803  -2.029371\n",
       "2017-12-31 -0.082272  -1.310312\n",
       "2018-01-31  0.240555  -7.560289\n",
       "2018-02-28  0.128050   3.934745\n",
       "2018-03-31 -0.024181   6.282551\n",
       "2018-04-30 -0.160580  -6.709460\n",
       "2018-05-31  0.195017  -1.308281"
      ]
     },
     "execution_count": 45,
     "metadata": {},
     "output_type": "execute_result"
    }
   ],
   "source": [
    "TT.resample('M').agg({'Open': np.mean, 'Volume': np.sum})  # No support from TIMETABLE"
   ]
  },
  {
   "cell_type": "code",
   "execution_count": 46,
   "metadata": {
    "collapsed": false,
    "scrolled": true
   },
   "outputs": [
    {
     "data": {
      "text/html": [
       "<div>\n",
       "<table border=\"1\" class=\"dataframe\">\n",
       "  <thead>\n",
       "    <tr>\n",
       "      <th></th>\n",
       "      <th colspan=\"2\" halign=\"left\">Open</th>\n",
       "      <th colspan=\"2\" halign=\"left\">Volume</th>\n",
       "    </tr>\n",
       "    <tr>\n",
       "      <th></th>\n",
       "      <th>std</th>\n",
       "      <th>mean</th>\n",
       "      <th>std</th>\n",
       "      <th>mean</th>\n",
       "    </tr>\n",
       "  </thead>\n",
       "  <tbody>\n",
       "    <tr>\n",
       "      <th>2017-01-31</th>\n",
       "      <td>0.950351</td>\n",
       "      <td>-0.439086</td>\n",
       "      <td>0.830079</td>\n",
       "      <td>0.136976</td>\n",
       "    </tr>\n",
       "    <tr>\n",
       "      <th>2017-02-28</th>\n",
       "      <td>0.804390</td>\n",
       "      <td>-0.029773</td>\n",
       "      <td>0.870230</td>\n",
       "      <td>0.252005</td>\n",
       "    </tr>\n",
       "    <tr>\n",
       "      <th>2017-03-31</th>\n",
       "      <td>1.084659</td>\n",
       "      <td>0.018178</td>\n",
       "      <td>0.933590</td>\n",
       "      <td>-0.448794</td>\n",
       "    </tr>\n",
       "    <tr>\n",
       "      <th>2017-04-30</th>\n",
       "      <td>0.982060</td>\n",
       "      <td>-0.206306</td>\n",
       "      <td>0.721963</td>\n",
       "      <td>-0.079813</td>\n",
       "    </tr>\n",
       "    <tr>\n",
       "      <th>2017-05-31</th>\n",
       "      <td>1.109038</td>\n",
       "      <td>0.291801</td>\n",
       "      <td>0.938039</td>\n",
       "      <td>0.036468</td>\n",
       "    </tr>\n",
       "    <tr>\n",
       "      <th>2017-06-30</th>\n",
       "      <td>1.139125</td>\n",
       "      <td>0.208987</td>\n",
       "      <td>1.269436</td>\n",
       "      <td>0.034545</td>\n",
       "    </tr>\n",
       "    <tr>\n",
       "      <th>2017-07-31</th>\n",
       "      <td>0.868497</td>\n",
       "      <td>0.043218</td>\n",
       "      <td>0.983966</td>\n",
       "      <td>0.036433</td>\n",
       "    </tr>\n",
       "    <tr>\n",
       "      <th>2017-08-31</th>\n",
       "      <td>0.928313</td>\n",
       "      <td>-0.141247</td>\n",
       "      <td>0.969016</td>\n",
       "      <td>-0.355487</td>\n",
       "    </tr>\n",
       "    <tr>\n",
       "      <th>2017-09-30</th>\n",
       "      <td>0.812096</td>\n",
       "      <td>-0.038370</td>\n",
       "      <td>1.065843</td>\n",
       "      <td>-0.011141</td>\n",
       "    </tr>\n",
       "    <tr>\n",
       "      <th>2017-10-31</th>\n",
       "      <td>0.798183</td>\n",
       "      <td>-0.239651</td>\n",
       "      <td>0.930682</td>\n",
       "      <td>-0.053401</td>\n",
       "    </tr>\n",
       "    <tr>\n",
       "      <th>2017-11-30</th>\n",
       "      <td>0.996823</td>\n",
       "      <td>-0.366803</td>\n",
       "      <td>1.127454</td>\n",
       "      <td>-0.067646</td>\n",
       "    </tr>\n",
       "    <tr>\n",
       "      <th>2017-12-31</th>\n",
       "      <td>1.023313</td>\n",
       "      <td>-0.082272</td>\n",
       "      <td>1.184402</td>\n",
       "      <td>-0.042268</td>\n",
       "    </tr>\n",
       "    <tr>\n",
       "      <th>2018-01-31</th>\n",
       "      <td>0.793104</td>\n",
       "      <td>0.240555</td>\n",
       "      <td>1.272296</td>\n",
       "      <td>-0.243880</td>\n",
       "    </tr>\n",
       "    <tr>\n",
       "      <th>2018-02-28</th>\n",
       "      <td>0.824796</td>\n",
       "      <td>0.128050</td>\n",
       "      <td>1.042549</td>\n",
       "      <td>0.140527</td>\n",
       "    </tr>\n",
       "    <tr>\n",
       "      <th>2018-03-31</th>\n",
       "      <td>0.920942</td>\n",
       "      <td>-0.024181</td>\n",
       "      <td>0.696205</td>\n",
       "      <td>0.202663</td>\n",
       "    </tr>\n",
       "    <tr>\n",
       "      <th>2018-04-30</th>\n",
       "      <td>0.811331</td>\n",
       "      <td>-0.160580</td>\n",
       "      <td>1.033548</td>\n",
       "      <td>-0.223649</td>\n",
       "    </tr>\n",
       "    <tr>\n",
       "      <th>2018-05-31</th>\n",
       "      <td>0.855614</td>\n",
       "      <td>0.195017</td>\n",
       "      <td>1.108684</td>\n",
       "      <td>-0.087219</td>\n",
       "    </tr>\n",
       "  </tbody>\n",
       "</table>\n",
       "</div>"
      ],
      "text/plain": [
       "                Open              Volume          \n",
       "                 std      mean       std      mean\n",
       "2017-01-31  0.950351 -0.439086  0.830079  0.136976\n",
       "2017-02-28  0.804390 -0.029773  0.870230  0.252005\n",
       "2017-03-31  1.084659  0.018178  0.933590 -0.448794\n",
       "2017-04-30  0.982060 -0.206306  0.721963 -0.079813\n",
       "2017-05-31  1.109038  0.291801  0.938039  0.036468\n",
       "2017-06-30  1.139125  0.208987  1.269436  0.034545\n",
       "2017-07-31  0.868497  0.043218  0.983966  0.036433\n",
       "2017-08-31  0.928313 -0.141247  0.969016 -0.355487\n",
       "2017-09-30  0.812096 -0.038370  1.065843 -0.011141\n",
       "2017-10-31  0.798183 -0.239651  0.930682 -0.053401\n",
       "2017-11-30  0.996823 -0.366803  1.127454 -0.067646\n",
       "2017-12-31  1.023313 -0.082272  1.184402 -0.042268\n",
       "2018-01-31  0.793104  0.240555  1.272296 -0.243880\n",
       "2018-02-28  0.824796  0.128050  1.042549  0.140527\n",
       "2018-03-31  0.920942 -0.024181  0.696205  0.202663\n",
       "2018-04-30  0.811331 -0.160580  1.033548 -0.223649\n",
       "2018-05-31  0.855614  0.195017  1.108684 -0.087219"
      ]
     },
     "execution_count": 46,
     "metadata": {},
     "output_type": "execute_result"
    }
   ],
   "source": [
    "TT.resample('M').agg({np.mean, np.std})  # Cartesian Product, Benefit of Multi-Level "
   ]
  },
  {
   "cell_type": "code",
   "execution_count": null,
   "metadata": {
    "collapsed": false
   },
   "outputs": [],
   "source": []
  },
  {
   "cell_type": "code",
   "execution_count": null,
   "metadata": {
    "collapsed": false
   },
   "outputs": [],
   "source": []
  },
  {
   "cell_type": "code",
   "execution_count": null,
   "metadata": {
    "collapsed": true
   },
   "outputs": [],
   "source": []
  },
  {
   "cell_type": "code",
   "execution_count": null,
   "metadata": {
    "collapsed": true
   },
   "outputs": [],
   "source": []
  }
 ],
 "metadata": {
  "kernelspec": {
   "display_name": "Python 3",
   "language": "python",
   "name": "python3"
  },
  "language_info": {
   "codemirror_mode": {
    "name": "ipython",
    "version": 3
   },
   "file_extension": ".py",
   "mimetype": "text/x-python",
   "name": "python",
   "nbconvert_exporter": "python",
   "pygments_lexer": "ipython3",
   "version": "3.6.0"
  }
 },
 "nbformat": 4,
 "nbformat_minor": 2
}
